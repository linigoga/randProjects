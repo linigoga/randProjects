{
 "cells": [
  {
   "cell_type": "markdown",
   "id": "ca42c98c",
   "metadata": {},
   "source": [
    "# Introduction\n",
    "This notebook is a practice notebook to use Deep Neural Networks to recognize numbers using the NMIST or the CIFAR10 image set"
   ]
  },
  {
   "cell_type": "code",
   "execution_count": 1,
   "id": "923a8e51",
   "metadata": {},
   "outputs": [],
   "source": [
    "import numpy as np\n",
    "import matplotlib.pyplot as plt\n",
    "from tensorflow import keras as k\n",
    "import sklearn as sk\n",
    "from sklearn.datasets import fetch_openml\n",
    "import tensorflow as tf"
   ]
  },
  {
   "cell_type": "code",
   "execution_count": 2,
   "id": "17119159",
   "metadata": {},
   "outputs": [
    {
     "name": "stdout",
     "output_type": "stream",
     "text": [
      "2 Physical GPUs, 1 Logical GPU\n"
     ]
    }
   ],
   "source": [
    "gpus = tf.config.list_physical_devices('GPU')\n",
    "if gpus:\n",
    "  # Restrict TensorFlow to only use the first GPU\n",
    "  try:\n",
    "    tf.config.set_visible_devices(gpus[0], 'GPU')\n",
    "    logical_gpus = tf.config.list_logical_devices('GPU')\n",
    "    print(len(gpus), \"Physical GPUs,\", len(logical_gpus), \"Logical GPU\")\n",
    "  except RuntimeError as e:\n",
    "    # Visible devices must be set before GPUs have been initialized\n",
    "    print(e)"
   ]
  },
  {
   "cell_type": "markdown",
   "id": "646682a1",
   "metadata": {},
   "source": [
    "We start with the fashion_mnist data set just to practice"
   ]
  },
  {
   "cell_type": "code",
   "execution_count": 3,
   "id": "66e1325f",
   "metadata": {},
   "outputs": [],
   "source": [
    "tf.random.set_seed(42) # For repeatability\n",
    "(X_train_full, y_train_full), (X_test, y_test) = k.datasets.fashion_mnist.load_data()\n",
    "X_train_full = X_train_full / 255.0\n",
    "X_test = X_test / 255.0\n",
    "X_valid, X_train = X_train_full[:5000], X_train_full[5000:]\n",
    "y_valid, y_train = y_train_full[:5000], y_train_full[5000:]"
   ]
  },
  {
   "cell_type": "markdown",
   "id": "0e633cd7",
   "metadata": {},
   "source": [
    "We shall follow using a DNN with 20 hidden layers and 100 neurons"
   ]
  },
  {
   "cell_type": "code",
   "execution_count": 4,
   "id": "8ed0ed77",
   "metadata": {},
   "outputs": [
    {
     "data": {
      "text/plain": [
       "(28, 28)"
      ]
     },
     "execution_count": 4,
     "metadata": {},
     "output_type": "execute_result"
    }
   ],
   "source": [
    "X_train[0].shape"
   ]
  },
  {
   "cell_type": "code",
   "execution_count": 6,
   "id": "bf0e742b",
   "metadata": {},
   "outputs": [
    {
     "data": {
      "text/plain": [
       "<matplotlib.image.AxesImage at 0x7f025406bed0>"
      ]
     },
     "execution_count": 6,
     "metadata": {},
     "output_type": "execute_result"
    },
    {
     "data": {
      "image/png": "[encoded data removed]",
      "text/plain": [
       "<Figure size 432x288 with 1 Axes>"
      ]
     },
     "metadata": {
      "needs_background": "light"
     },
     "output_type": "display_data"
    }
   ],
   "source": [
    "plt.imshow(X_train[1])"
   ]
  },
  {
   "cell_type": "code",
   "execution_count": 9,
   "id": "78c9286c",
   "metadata": {},
   "outputs": [
    {
     "name": "stdout",
     "output_type": "stream",
     "text": [
      "10\n"
     ]
    }
   ],
   "source": [
    "unique_vals = []\n",
    "for y in y_test:\n",
    "    if y in unique_vals:\n",
    "        continue\n",
    "    else:\n",
    "        unique_vals.append(y)\n",
    "print(len(unique_vals))"
   ]
  },
  {
   "cell_type": "code",
   "execution_count": 10,
   "id": "48e6b0ea",
   "metadata": {},
   "outputs": [],
   "source": [
    "model_mnist = k.models.Sequential()\n",
    "model_mnist.add(k.layers.Flatten(input_shape = X_train[0].shape))\n",
    "model_mnist.add(k.layers.Dense(20,activation='elu' ))\n",
    "model_mnist.add(k.layers.Dense(200,activation='elu'))\n",
    "model_mnist.add(k.layers.Dense(100,activation='elu'))\n",
    "model_mnist.add(k.layers.Dense(len(unique_vals),activation='softmax'))\n"
   ]
  },
  {
   "cell_type": "code",
   "execution_count": 12,
   "id": "b215a03c",
   "metadata": {},
   "outputs": [],
   "source": [
    "model_mnist.compile(loss=\"sparse_categorical_crossentropy\",\n",
    "              optimizer=k.optimizers.SGD(lr=1e-3),\n",
    "              metrics=[\"accuracy\"])"
   ]
  },
  {
   "cell_type": "code",
   "execution_count": 14,
   "id": "056a2b53",
   "metadata": {},
   "outputs": [
    {
     "name": "stdout",
     "output_type": "stream",
     "text": [
      "Epoch 1/100\n",
      "1719/1719 [==============================] - 3s 2ms/step - loss: 0.3874 - accuracy: 0.8620 - val_loss: 0.3961 - val_accuracy: 0.8592\n",
      "Epoch 2/100\n",
      "1719/1719 [==============================] - 3s 2ms/step - loss: 0.3862 - accuracy: 0.8628 - val_loss: 0.3951 - val_accuracy: 0.8608\n",
      "Epoch 3/100\n",
      "1719/1719 [==============================] - 3s 2ms/step - loss: 0.3848 - accuracy: 0.8633 - val_loss: 0.4048 - val_accuracy: 0.8552\n",
      "Epoch 4/100\n",
      "1719/1719 [==============================] - 3s 2ms/step - loss: 0.3835 - accuracy: 0.8634 - val_loss: 0.3934 - val_accuracy: 0.8598\n",
      "Epoch 5/100\n",
      "1719/1719 [==============================] - 3s 2ms/step - loss: 0.3830 - accuracy: 0.8639 - val_loss: 0.3921 - val_accuracy: 0.8620\n",
      "Epoch 6/100\n",
      "1719/1719 [==============================] - 3s 2ms/step - loss: 0.3815 - accuracy: 0.8650 - val_loss: 0.3903 - val_accuracy: 0.8646\n",
      "Epoch 7/100\n",
      "1719/1719 [==============================] - 3s 2ms/step - loss: 0.3802 - accuracy: 0.8656 - val_loss: 0.3892 - val_accuracy: 0.8626\n",
      "Epoch 8/100\n",
      "1719/1719 [==============================] - 3s 2ms/step - loss: 0.3792 - accuracy: 0.8662 - val_loss: 0.3946 - val_accuracy: 0.8586\n",
      "Epoch 9/100\n",
      "1719/1719 [==============================] - 3s 2ms/step - loss: 0.3783 - accuracy: 0.8651 - val_loss: 0.3877 - val_accuracy: 0.8604\n",
      "Epoch 10/100\n",
      "1719/1719 [==============================] - 3s 2ms/step - loss: 0.3769 - accuracy: 0.8665 - val_loss: 0.3884 - val_accuracy: 0.8640\n",
      "Epoch 11/100\n",
      "1719/1719 [==============================] - 3s 2ms/step - loss: 0.3757 - accuracy: 0.8660 - val_loss: 0.3873 - val_accuracy: 0.8658\n",
      "Epoch 12/100\n",
      "1719/1719 [==============================] - 3s 2ms/step - loss: 0.3746 - accuracy: 0.8669 - val_loss: 0.3886 - val_accuracy: 0.8640\n",
      "Epoch 13/100\n",
      "1719/1719 [==============================] - 3s 2ms/step - loss: 0.3738 - accuracy: 0.8664 - val_loss: 0.3880 - val_accuracy: 0.8626\n",
      "Epoch 14/100\n",
      "1719/1719 [==============================] - 3s 2ms/step - loss: 0.3728 - accuracy: 0.8669 - val_loss: 0.3894 - val_accuracy: 0.8612\n",
      "Epoch 15/100\n",
      "1719/1719 [==============================] - 3s 2ms/step - loss: 0.3716 - accuracy: 0.8678 - val_loss: 0.3841 - val_accuracy: 0.8660\n",
      "Epoch 16/100\n",
      "1719/1719 [==============================] - 3s 2ms/step - loss: 0.3707 - accuracy: 0.8686 - val_loss: 0.3857 - val_accuracy: 0.8642\n",
      "Epoch 17/100\n",
      "1719/1719 [==============================] - 3s 2ms/step - loss: 0.3698 - accuracy: 0.8684 - val_loss: 0.3889 - val_accuracy: 0.8656\n",
      "Epoch 18/100\n",
      "1719/1719 [==============================] - 3s 2ms/step - loss: 0.3684 - accuracy: 0.8687 - val_loss: 0.3843 - val_accuracy: 0.8632\n",
      "Epoch 19/100\n",
      "1719/1719 [==============================] - 3s 2ms/step - loss: 0.3679 - accuracy: 0.8695 - val_loss: 0.3846 - val_accuracy: 0.8642\n",
      "Epoch 20/100\n",
      "1719/1719 [==============================] - 3s 2ms/step - loss: 0.3669 - accuracy: 0.8696 - val_loss: 0.3841 - val_accuracy: 0.8626\n",
      "Epoch 21/100\n",
      "1719/1719 [==============================] - 3s 1ms/step - loss: 0.3658 - accuracy: 0.8701 - val_loss: 0.3782 - val_accuracy: 0.8648\n",
      "Epoch 22/100\n",
      "1719/1719 [==============================] - 3s 2ms/step - loss: 0.3647 - accuracy: 0.8699 - val_loss: 0.3789 - val_accuracy: 0.8664\n",
      "Epoch 23/100\n",
      "1719/1719 [==============================] - 3s 2ms/step - loss: 0.3640 - accuracy: 0.8702 - val_loss: 0.3785 - val_accuracy: 0.8648\n",
      "Epoch 24/100\n",
      "1719/1719 [==============================] - 3s 2ms/step - loss: 0.3630 - accuracy: 0.8708 - val_loss: 0.3786 - val_accuracy: 0.8664\n",
      "Epoch 25/100\n",
      "1719/1719 [==============================] - 3s 2ms/step - loss: 0.3624 - accuracy: 0.8714 - val_loss: 0.3816 - val_accuracy: 0.8662\n",
      "Epoch 26/100\n",
      "1719/1719 [==============================] - 3s 2ms/step - loss: 0.3614 - accuracy: 0.8716 - val_loss: 0.3774 - val_accuracy: 0.8646\n",
      "Epoch 27/100\n",
      "1719/1719 [==============================] - 3s 2ms/step - loss: 0.3605 - accuracy: 0.8721 - val_loss: 0.3771 - val_accuracy: 0.8660\n",
      "Epoch 28/100\n",
      "1719/1719 [==============================] - 3s 2ms/step - loss: 0.3598 - accuracy: 0.8715 - val_loss: 0.3811 - val_accuracy: 0.8650\n",
      "Epoch 29/100\n",
      "1719/1719 [==============================] - 3s 2ms/step - loss: 0.3588 - accuracy: 0.8725 - val_loss: 0.3754 - val_accuracy: 0.8666\n",
      "Epoch 30/100\n",
      "1719/1719 [==============================] - 3s 2ms/step - loss: 0.3579 - accuracy: 0.8727 - val_loss: 0.3808 - val_accuracy: 0.8678\n",
      "Epoch 31/100\n",
      "1719/1719 [==============================] - 3s 2ms/step - loss: 0.3569 - accuracy: 0.8734 - val_loss: 0.3747 - val_accuracy: 0.8664\n",
      "Epoch 32/100\n",
      "1719/1719 [==============================] - 3s 2ms/step - loss: 0.3567 - accuracy: 0.8734 - val_loss: 0.3751 - val_accuracy: 0.8654\n",
      "Epoch 33/100\n",
      "1719/1719 [==============================] - 3s 2ms/step - loss: 0.3556 - accuracy: 0.8726 - val_loss: 0.3761 - val_accuracy: 0.8664\n",
      "Epoch 34/100\n",
      "1719/1719 [==============================] - 3s 2ms/step - loss: 0.3544 - accuracy: 0.8740 - val_loss: 0.3754 - val_accuracy: 0.8644\n",
      "Epoch 35/100\n",
      "1719/1719 [==============================] - 3s 2ms/step - loss: 0.3539 - accuracy: 0.8736 - val_loss: 0.3704 - val_accuracy: 0.8690\n",
      "Epoch 36/100\n",
      "1719/1719 [==============================] - 3s 2ms/step - loss: 0.3530 - accuracy: 0.8745 - val_loss: 0.3747 - val_accuracy: 0.8666\n",
      "Epoch 37/100\n",
      "1719/1719 [==============================] - 3s 2ms/step - loss: 0.3523 - accuracy: 0.8749 - val_loss: 0.3710 - val_accuracy: 0.8680\n",
      "Epoch 38/100\n",
      "1719/1719 [==============================] - 3s 2ms/step - loss: 0.3514 - accuracy: 0.8749 - val_loss: 0.3696 - val_accuracy: 0.8680\n",
      "Epoch 39/100\n",
      "1719/1719 [==============================] - 3s 2ms/step - loss: 0.3508 - accuracy: 0.8753 - val_loss: 0.3745 - val_accuracy: 0.8658\n",
      "Epoch 40/100\n",
      "1719/1719 [==============================] - 3s 2ms/step - loss: 0.3501 - accuracy: 0.8757 - val_loss: 0.3686 - val_accuracy: 0.8674\n",
      "Epoch 41/100\n",
      "1719/1719 [==============================] - 3s 2ms/step - loss: 0.3493 - accuracy: 0.8757 - val_loss: 0.3687 - val_accuracy: 0.8680\n",
      "Epoch 42/100\n",
      "1719/1719 [==============================] - 3s 2ms/step - loss: 0.3483 - accuracy: 0.8764 - val_loss: 0.3693 - val_accuracy: 0.8688\n",
      "Epoch 43/100\n",
      "1719/1719 [==============================] - 3s 2ms/step - loss: 0.3474 - accuracy: 0.8761 - val_loss: 0.3684 - val_accuracy: 0.8666\n",
      "Epoch 44/100\n",
      "1719/1719 [==============================] - 3s 2ms/step - loss: 0.3472 - accuracy: 0.8768 - val_loss: 0.3700 - val_accuracy: 0.8670\n",
      "Epoch 45/100\n",
      "1719/1719 [==============================] - 3s 2ms/step - loss: 0.3465 - accuracy: 0.8762 - val_loss: 0.3661 - val_accuracy: 0.8688\n",
      "Epoch 46/100\n",
      "1719/1719 [==============================] - 3s 2ms/step - loss: 0.3452 - accuracy: 0.8781 - val_loss: 0.3724 - val_accuracy: 0.8678\n",
      "Epoch 47/100\n",
      "1719/1719 [==============================] - 3s 2ms/step - loss: 0.3447 - accuracy: 0.8778 - val_loss: 0.3646 - val_accuracy: 0.8690\n",
      "Epoch 48/100\n",
      "1719/1719 [==============================] - 3s 2ms/step - loss: 0.3440 - accuracy: 0.8775 - val_loss: 0.3682 - val_accuracy: 0.8680\n",
      "Epoch 49/100\n",
      "1719/1719 [==============================] - 3s 2ms/step - loss: 0.3434 - accuracy: 0.8776 - val_loss: 0.3639 - val_accuracy: 0.8696\n",
      "Epoch 50/100\n",
      "1719/1719 [==============================] - 3s 2ms/step - loss: 0.3428 - accuracy: 0.8779 - val_loss: 0.3654 - val_accuracy: 0.8700\n",
      "Epoch 51/100\n",
      "1719/1719 [==============================] - 3s 2ms/step - loss: 0.3424 - accuracy: 0.8778 - val_loss: 0.3647 - val_accuracy: 0.8684\n",
      "Epoch 52/100\n",
      "1719/1719 [==============================] - 3s 2ms/step - loss: 0.3415 - accuracy: 0.8795 - val_loss: 0.3634 - val_accuracy: 0.8684\n",
      "Epoch 53/100\n",
      "1719/1719 [==============================] - 3s 2ms/step - loss: 0.3406 - accuracy: 0.8790 - val_loss: 0.3685 - val_accuracy: 0.8674\n",
      "Epoch 54/100\n",
      "1719/1719 [==============================] - 3s 2ms/step - loss: 0.3399 - accuracy: 0.8792 - val_loss: 0.3607 - val_accuracy: 0.8694\n",
      "Epoch 55/100\n",
      "1719/1719 [==============================] - 3s 2ms/step - loss: 0.3391 - accuracy: 0.8797 - val_loss: 0.3634 - val_accuracy: 0.8684\n",
      "Epoch 56/100\n",
      "1719/1719 [==============================] - 3s 2ms/step - loss: 0.3388 - accuracy: 0.8793 - val_loss: 0.3606 - val_accuracy: 0.8702\n",
      "Epoch 57/100\n",
      "1719/1719 [==============================] - 3s 2ms/step - loss: 0.3376 - accuracy: 0.8792 - val_loss: 0.3611 - val_accuracy: 0.8704\n",
      "Epoch 58/100\n",
      "1719/1719 [==============================] - 3s 2ms/step - loss: 0.3373 - accuracy: 0.8798 - val_loss: 0.3595 - val_accuracy: 0.8706\n",
      "Epoch 59/100\n",
      "1719/1719 [==============================] - 3s 2ms/step - loss: 0.3368 - accuracy: 0.8800 - val_loss: 0.3614 - val_accuracy: 0.8702\n",
      "Epoch 60/100\n",
      "1719/1719 [==============================] - 3s 2ms/step - loss: 0.3363 - accuracy: 0.8800 - val_loss: 0.3605 - val_accuracy: 0.8716\n",
      "Epoch 61/100\n",
      "1719/1719 [==============================] - 3s 2ms/step - loss: 0.3356 - accuracy: 0.8803 - val_loss: 0.3595 - val_accuracy: 0.8724\n",
      "Epoch 62/100\n",
      "1719/1719 [==============================] - 3s 2ms/step - loss: 0.3350 - accuracy: 0.8820 - val_loss: 0.3607 - val_accuracy: 0.8696\n",
      "Epoch 63/100\n",
      "1719/1719 [==============================] - 3s 2ms/step - loss: 0.3343 - accuracy: 0.8809 - val_loss: 0.3572 - val_accuracy: 0.8706\n",
      "Epoch 64/100\n",
      "1719/1719 [==============================] - 3s 2ms/step - loss: 0.3335 - accuracy: 0.8813 - val_loss: 0.3617 - val_accuracy: 0.8688\n",
      "Epoch 65/100\n",
      "1719/1719 [==============================] - 3s 2ms/step - loss: 0.3330 - accuracy: 0.8812 - val_loss: 0.3581 - val_accuracy: 0.8694\n",
      "Epoch 66/100\n",
      "1719/1719 [==============================] - 3s 2ms/step - loss: 0.3320 - accuracy: 0.8821 - val_loss: 0.3630 - val_accuracy: 0.8694\n",
      "Epoch 67/100\n",
      "1719/1719 [==============================] - 3s 2ms/step - loss: 0.3314 - accuracy: 0.8817 - val_loss: 0.3559 - val_accuracy: 0.8714\n",
      "Epoch 68/100\n",
      "1719/1719 [==============================] - 3s 2ms/step - loss: 0.3309 - accuracy: 0.8826 - val_loss: 0.3564 - val_accuracy: 0.8692\n",
      "Epoch 69/100\n",
      "1719/1719 [==============================] - 3s 2ms/step - loss: 0.3307 - accuracy: 0.8825 - val_loss: 0.3575 - val_accuracy: 0.8700\n",
      "Epoch 70/100\n",
      "1719/1719 [==============================] - 3s 2ms/step - loss: 0.3296 - accuracy: 0.8821 - val_loss: 0.3546 - val_accuracy: 0.8710\n",
      "Epoch 71/100\n",
      "1719/1719 [==============================] - 3s 2ms/step - loss: 0.3292 - accuracy: 0.8831 - val_loss: 0.3554 - val_accuracy: 0.8714\n",
      "Epoch 72/100\n",
      "1719/1719 [==============================] - 3s 2ms/step - loss: 0.3287 - accuracy: 0.8831 - val_loss: 0.3565 - val_accuracy: 0.8700\n",
      "Epoch 73/100\n",
      "1719/1719 [==============================] - 3s 2ms/step - loss: 0.3280 - accuracy: 0.8833 - val_loss: 0.3552 - val_accuracy: 0.8698\n",
      "Epoch 74/100\n",
      "1719/1719 [==============================] - 3s 2ms/step - loss: 0.3278 - accuracy: 0.8829 - val_loss: 0.3600 - val_accuracy: 0.8696\n",
      "Epoch 75/100\n",
      "1719/1719 [==============================] - 3s 2ms/step - loss: 0.3269 - accuracy: 0.8836 - val_loss: 0.3576 - val_accuracy: 0.8712\n",
      "Epoch 76/100\n",
      "1719/1719 [==============================] - 3s 2ms/step - loss: 0.3265 - accuracy: 0.8836 - val_loss: 0.3575 - val_accuracy: 0.8702\n",
      "Epoch 77/100\n",
      "1719/1719 [==============================] - 3s 2ms/step - loss: 0.3258 - accuracy: 0.8841 - val_loss: 0.3528 - val_accuracy: 0.8724\n",
      "Epoch 78/100\n",
      "1719/1719 [==============================] - 3s 2ms/step - loss: 0.3255 - accuracy: 0.8841 - val_loss: 0.3528 - val_accuracy: 0.8704\n",
      "Epoch 79/100\n",
      "1719/1719 [==============================] - 3s 1ms/step - loss: 0.3247 - accuracy: 0.8839 - val_loss: 0.3533 - val_accuracy: 0.8716\n",
      "Epoch 80/100\n",
      "1719/1719 [==============================] - 3s 2ms/step - loss: 0.3242 - accuracy: 0.8846 - val_loss: 0.3523 - val_accuracy: 0.8728\n",
      "Epoch 81/100\n",
      "1719/1719 [==============================] - 3s 2ms/step - loss: 0.3238 - accuracy: 0.8847 - val_loss: 0.3545 - val_accuracy: 0.8726\n",
      "Epoch 82/100\n",
      "1719/1719 [==============================] - 3s 1ms/step - loss: 0.3230 - accuracy: 0.8849 - val_loss: 0.3523 - val_accuracy: 0.8724\n",
      "Epoch 83/100\n",
      "1719/1719 [==============================] - 3s 2ms/step - loss: 0.3225 - accuracy: 0.8854 - val_loss: 0.3519 - val_accuracy: 0.8730\n",
      "Epoch 84/100\n",
      "1719/1719 [==============================] - 3s 1ms/step - loss: 0.3223 - accuracy: 0.8847 - val_loss: 0.3507 - val_accuracy: 0.8708\n",
      "Epoch 85/100\n",
      "1719/1719 [==============================] - 3s 1ms/step - loss: 0.3216 - accuracy: 0.8851 - val_loss: 0.3529 - val_accuracy: 0.8696\n",
      "Epoch 86/100\n",
      "1719/1719 [==============================] - 3s 2ms/step - loss: 0.3211 - accuracy: 0.8853 - val_loss: 0.3508 - val_accuracy: 0.8726\n",
      "Epoch 87/100\n",
      "1719/1719 [==============================] - 3s 2ms/step - loss: 0.3203 - accuracy: 0.8852 - val_loss: 0.3515 - val_accuracy: 0.8712\n",
      "Epoch 88/100\n",
      "1719/1719 [==============================] - 3s 2ms/step - loss: 0.3197 - accuracy: 0.8855 - val_loss: 0.3536 - val_accuracy: 0.8736\n",
      "Epoch 89/100\n",
      "1719/1719 [==============================] - 4s 2ms/step - loss: 0.3195 - accuracy: 0.8854 - val_loss: 0.3532 - val_accuracy: 0.8716\n",
      "Epoch 90/100\n",
      "1719/1719 [==============================] - 4s 2ms/step - loss: 0.3186 - accuracy: 0.8860 - val_loss: 0.3587 - val_accuracy: 0.8712\n",
      "Epoch 91/100\n",
      "1719/1719 [==============================] - 3s 2ms/step - loss: 0.3183 - accuracy: 0.8865 - val_loss: 0.3488 - val_accuracy: 0.8726\n",
      "Epoch 92/100\n",
      "1719/1719 [==============================] - 3s 2ms/step - loss: 0.3175 - accuracy: 0.8860 - val_loss: 0.3505 - val_accuracy: 0.8722\n",
      "Epoch 93/100\n",
      "1719/1719 [==============================] - 3s 2ms/step - loss: 0.3171 - accuracy: 0.8867 - val_loss: 0.3521 - val_accuracy: 0.8706\n",
      "Epoch 94/100\n",
      "1719/1719 [==============================] - 3s 2ms/step - loss: 0.3169 - accuracy: 0.8873 - val_loss: 0.3520 - val_accuracy: 0.8696\n",
      "Epoch 95/100\n",
      "1719/1719 [==============================] - 3s 2ms/step - loss: 0.3166 - accuracy: 0.8871 - val_loss: 0.3505 - val_accuracy: 0.8716\n",
      "Epoch 96/100\n",
      "1719/1719 [==============================] - 3s 2ms/step - loss: 0.3158 - accuracy: 0.8881 - val_loss: 0.3482 - val_accuracy: 0.8726\n",
      "Epoch 97/100\n",
      "1719/1719 [==============================] - 3s 2ms/step - loss: 0.3153 - accuracy: 0.8873 - val_loss: 0.3464 - val_accuracy: 0.8730\n",
      "Epoch 98/100\n",
      "1719/1719 [==============================] - 3s 2ms/step - loss: 0.3149 - accuracy: 0.8873 - val_loss: 0.3509 - val_accuracy: 0.8720\n",
      "Epoch 99/100\n",
      "1719/1719 [==============================] - 3s 1ms/step - loss: 0.3143 - accuracy: 0.8878 - val_loss: 0.3518 - val_accuracy: 0.8728\n",
      "Epoch 100/100\n",
      "1719/1719 [==============================] - 3s 1ms/step - loss: 0.3139 - accuracy: 0.8878 - val_loss: 0.3478 - val_accuracy: 0.8730\n"
     ]
    }
   ],
   "source": [
    "callbacks = k.callbacks.EarlyStopping(patience=20)\n",
    "\n",
    "history = model_mnist.fit(X_train,y_train,\n",
    "            epochs = 100, validation_data=(X_valid,y_valid),\n",
    "            callbacks=callbacks)"
   ]
  },
  {
   "cell_type": "code",
   "execution_count": 15,
   "id": "4a4bfd95",
   "metadata": {},
   "outputs": [
    {
     "data": {
      "text/plain": [
       "dict_keys(['loss', 'accuracy', 'val_loss', 'val_accuracy'])"
      ]
     },
     "execution_count": 15,
     "metadata": {},
     "output_type": "execute_result"
    }
   ],
   "source": [
    "history.history.keys()"
   ]
  },
  {
   "cell_type": "code",
   "execution_count": 21,
   "id": "b100aa99",
   "metadata": {},
   "outputs": [
    {
     "data": {
      "text/plain": [
       "<matplotlib.legend.Legend at 0x7f02005cc5d0>"
      ]
     },
     "execution_count": 21,
     "metadata": {},
     "output_type": "execute_result"
    },
    {
     "data": {
      "image/png": "[encoded data removed]",
      "text/plain": [
       "<Figure size 432x288 with 1 Axes>"
      ]
     },
     "metadata": {
      "needs_background": "light"
     },
     "output_type": "display_data"
    }
   ],
   "source": [
    "plt.figure()\n",
    "for key in history.history.keys():\n",
    "\n",
    "    plt.plot(history.history[key],label=key)\n",
    "\n",
    "plt.legend()"
   ]
  },
  {
   "cell_type": "code",
   "execution_count": 29,
   "id": "a682bcaf",
   "metadata": {},
   "outputs": [
    {
     "name": "stdout",
     "output_type": "stream",
     "text": [
      "313/313 [==============================] - 0s 1ms/step - loss: 0.3839 - accuracy: 0.8630\n"
     ]
    },
    {
     "data": {
      "text/plain": [
       "[0.3839142620563507, 0.8629999756813049]"
      ]
     },
     "execution_count": 29,
     "metadata": {},
     "output_type": "execute_result"
    }
   ],
   "source": [
    "model_mnist.evaluate(X_test,y_test)"
   ]
  },
  {
   "cell_type": "code",
   "execution_count": 31,
   "id": "ac32ebef",
   "metadata": {},
   "outputs": [],
   "source": [
    "y_pred = model_mnist.predict(X_train[:2])"
   ]
  },
  {
   "cell_type": "code",
   "execution_count": 32,
   "id": "e146cc32",
   "metadata": {},
   "outputs": [
    {
     "data": {
      "text/plain": [
       "array([[2.6736187e-04, 9.9088043e-05, 1.7612454e-01, 6.2683561e-05,\n",
       "        7.2324288e-01, 2.5777982e-09, 9.9725835e-02, 1.1779052e-14,\n",
       "        4.7764176e-04, 3.4235495e-10],\n",
       "       [7.5304151e-01, 2.6318830e-05, 6.6077788e-03, 4.3140448e-04,\n",
       "        1.4883376e-05, 5.2009246e-09, 2.3961124e-01, 3.6049500e-11,\n",
       "        2.6681015e-04, 5.7935285e-08]], dtype=float32)"
      ]
     },
     "execution_count": 32,
     "metadata": {},
     "output_type": "execute_result"
    }
   ],
   "source": [
    "y_pred"
   ]
  },
  {
   "cell_type": "markdown",
   "id": "789bbf51",
   "metadata": {},
   "source": [
    "The following corresponds to the cifar10 dataset"
   ]
  },
  {
   "cell_type": "code",
   "execution_count": 7,
   "id": "a75d8bc2",
   "metadata": {},
   "outputs": [],
   "source": [
    "tf.random.set_seed(42) # For repeatability\n",
    "(X_train_full, y_train_full), (X_test, y_test) = k.datasets.cifar10.load_data()\n",
    "X_train_full = X_train_full / 255.0\n",
    "X_test = X_test / 255.0\n",
    "X_valid, X_train = X_train_full[:5000], X_train_full[5000:]\n",
    "y_valid, y_train = y_train_full[:5000], y_train_full[5000:]"
   ]
  },
  {
   "cell_type": "markdown",
   "id": "479f59ac",
   "metadata": {},
   "source": [
    "Let's add some early stopping"
   ]
  },
  {
   "cell_type": "code",
   "execution_count": 8,
   "id": "51ef04f0",
   "metadata": {},
   "outputs": [],
   "source": [
    "early_stopping = k.callbacks.EarlyStopping(patience=20)\n",
    "model_checkpoint = k.callbacks.ModelCheckpoint('Question8.h5',save_best_only=True)\n",
    "run_index =1\n",
    "callbacks = [early_stopping,model_checkpoint]"
   ]
  },
  {
   "cell_type": "code",
   "execution_count": 9,
   "id": "1886d033",
   "metadata": {},
   "outputs": [],
   "source": [
    "model_20 = k.models.Sequential()\n",
    "model_20.add(k.layers.Flatten(input_shape = [32,32,3]))\n",
    "\n",
    "n_hidden = 100\n",
    "for _ in range(20):\n",
    "    model_20.add(k.layers.Dense(n_hidden,activation='elu',kernel_initializer='he_normal'))\n",
    "model_20.add(k.layers.Dense(10, activation = 'softmax'))"
   ]
  },
  {
   "cell_type": "code",
   "execution_count": 10,
   "id": "e0419976",
   "metadata": {},
   "outputs": [],
   "source": [
    "model_20.compile(loss=\"sparse_categorical_crossentropy\",\n",
    "              optimizer=k.optimizers.SGD(lr=1e-3),\n",
    "              metrics=[\"accuracy\"])"
   ]
  },
  {
   "cell_type": "code",
   "execution_count": 11,
   "id": "e21e393a",
   "metadata": {},
   "outputs": [
    {
     "name": "stdout",
     "output_type": "stream",
     "text": [
      "Epoch 1/100\n",
      "1407/1407 [==============================] - 5s 3ms/step - loss: 2.1469 - accuracy: 0.2276 - val_loss: 1.9695 - val_accuracy: 0.2720\n",
      "Epoch 2/100\n",
      "1407/1407 [==============================] - 5s 4ms/step - loss: 1.8313 - accuracy: 0.3387 - val_loss: 1.9423 - val_accuracy: 0.2990\n",
      "Epoch 3/100\n",
      "1407/1407 [==============================] - 5s 4ms/step - loss: 1.7507 - accuracy: 0.3686 - val_loss: 2.1032 - val_accuracy: 0.2844\n",
      "Epoch 4/100\n",
      "1407/1407 [==============================] - 5s 4ms/step - loss: 1.6932 - accuracy: 0.3916 - val_loss: 2.2766 - val_accuracy: 0.2618\n",
      "Epoch 5/100\n",
      "1407/1407 [==============================] - 5s 4ms/step - loss: 1.6480 - accuracy: 0.4031 - val_loss: 1.7368 - val_accuracy: 0.3652\n",
      "Epoch 6/100\n",
      "1407/1407 [==============================] - 5s 3ms/step - loss: 1.6125 - accuracy: 0.4224 - val_loss: 1.6861 - val_accuracy: 0.3862\n",
      "Epoch 7/100\n",
      "1407/1407 [==============================] - 4s 3ms/step - loss: 1.5768 - accuracy: 0.4315 - val_loss: 1.7217 - val_accuracy: 0.3802\n",
      "Epoch 8/100\n",
      "1407/1407 [==============================] - 5s 3ms/step - loss: 1.5523 - accuracy: 0.4386 - val_loss: 1.6541 - val_accuracy: 0.4114\n",
      "Epoch 9/100\n",
      "1407/1407 [==============================] - 5s 3ms/step - loss: 1.5369 - accuracy: 0.4493 - val_loss: 1.6683 - val_accuracy: 0.3930\n",
      "Epoch 10/100\n",
      "1407/1407 [==============================] - 5s 4ms/step - loss: 1.5125 - accuracy: 0.4561 - val_loss: 1.6904 - val_accuracy: 0.3954\n",
      "Epoch 11/100\n",
      "1407/1407 [==============================] - 5s 3ms/step - loss: 1.4880 - accuracy: 0.4664 - val_loss: 1.6769 - val_accuracy: 0.3936\n",
      "Epoch 12/100\n",
      "1407/1407 [==============================] - 5s 3ms/step - loss: 1.4836 - accuracy: 0.4673 - val_loss: 1.6158 - val_accuracy: 0.4150\n",
      "Epoch 13/100\n",
      "1407/1407 [==============================] - 5s 3ms/step - loss: 1.4688 - accuracy: 0.4755 - val_loss: 1.5683 - val_accuracy: 0.4394\n",
      "Epoch 14/100\n",
      "1407/1407 [==============================] - 5s 3ms/step - loss: 1.4402 - accuracy: 0.4848 - val_loss: 1.5113 - val_accuracy: 0.4562\n",
      "Epoch 15/100\n",
      "1407/1407 [==============================] - 5s 4ms/step - loss: 1.4383 - accuracy: 0.4855 - val_loss: 1.5687 - val_accuracy: 0.4320\n",
      "Epoch 16/100\n",
      "1407/1407 [==============================] - 5s 3ms/step - loss: 1.4326 - accuracy: 0.4881 - val_loss: 1.5783 - val_accuracy: 0.4252\n",
      "Epoch 17/100\n",
      "1407/1407 [==============================] - 5s 4ms/step - loss: 1.4177 - accuracy: 0.4955 - val_loss: 1.5970 - val_accuracy: 0.4294\n",
      "Epoch 18/100\n",
      "1407/1407 [==============================] - 5s 3ms/step - loss: 1.4051 - accuracy: 0.4978 - val_loss: 1.5051 - val_accuracy: 0.4586\n",
      "Epoch 19/100\n",
      "1407/1407 [==============================] - 5s 3ms/step - loss: 1.3796 - accuracy: 0.5113 - val_loss: 1.5849 - val_accuracy: 0.4462\n",
      "Epoch 20/100\n",
      "1407/1407 [==============================] - 5s 4ms/step - loss: 1.3715 - accuracy: 0.5077 - val_loss: 1.5664 - val_accuracy: 0.4460\n",
      "Epoch 21/100\n",
      "1407/1407 [==============================] - 5s 3ms/step - loss: 1.3680 - accuracy: 0.5137 - val_loss: 1.5507 - val_accuracy: 0.4512\n",
      "Epoch 22/100\n",
      "1407/1407 [==============================] - 5s 4ms/step - loss: 1.3496 - accuracy: 0.5177 - val_loss: 1.7205 - val_accuracy: 0.4060\n",
      "Epoch 23/100\n",
      "1407/1407 [==============================] - 5s 4ms/step - loss: 1.3416 - accuracy: 0.5186 - val_loss: 1.5339 - val_accuracy: 0.4584\n",
      "Epoch 24/100\n",
      "1407/1407 [==============================] - 6s 4ms/step - loss: 1.3342 - accuracy: 0.5195 - val_loss: 1.5633 - val_accuracy: 0.4420\n",
      "Epoch 25/100\n",
      "1407/1407 [==============================] - 5s 4ms/step - loss: 1.3250 - accuracy: 0.5259 - val_loss: 1.5117 - val_accuracy: 0.4704\n",
      "Epoch 26/100\n",
      "1407/1407 [==============================] - 5s 3ms/step - loss: 1.3027 - accuracy: 0.5360 - val_loss: 1.5873 - val_accuracy: 0.4454\n",
      "Epoch 27/100\n",
      "1407/1407 [==============================] - 5s 3ms/step - loss: 1.3055 - accuracy: 0.5311 - val_loss: 1.4748 - val_accuracy: 0.4818\n",
      "Epoch 28/100\n",
      "1407/1407 [==============================] - 4s 3ms/step - loss: 1.2897 - accuracy: 0.5403 - val_loss: 1.8796 - val_accuracy: 0.3820\n",
      "Epoch 29/100\n",
      "1407/1407 [==============================] - 5s 4ms/step - loss: 1.2914 - accuracy: 0.5392 - val_loss: 1.5115 - val_accuracy: 0.4678\n",
      "Epoch 30/100\n",
      "1407/1407 [==============================] - 5s 4ms/step - loss: 1.2807 - accuracy: 0.5432 - val_loss: 2.1694 - val_accuracy: 0.3566\n",
      "Epoch 31/100\n",
      "1407/1407 [==============================] - 6s 4ms/step - loss: 1.2840 - accuracy: 0.5422 - val_loss: 1.6436 - val_accuracy: 0.4360\n",
      "Epoch 32/100\n",
      "1407/1407 [==============================] - 6s 4ms/step - loss: 1.2546 - accuracy: 0.5526 - val_loss: 1.5599 - val_accuracy: 0.4680\n",
      "Epoch 33/100\n",
      "1407/1407 [==============================] - 6s 4ms/step - loss: 1.2588 - accuracy: 0.5493 - val_loss: 1.5417 - val_accuracy: 0.4716\n",
      "Epoch 34/100\n",
      "1407/1407 [==============================] - 5s 3ms/step - loss: 1.2385 - accuracy: 0.5588 - val_loss: 1.7072 - val_accuracy: 0.4242\n",
      "Epoch 35/100\n",
      "1407/1407 [==============================] - 6s 4ms/step - loss: 1.2412 - accuracy: 0.5562 - val_loss: 1.7388 - val_accuracy: 0.4376\n",
      "Epoch 36/100\n",
      "1407/1407 [==============================] - 6s 4ms/step - loss: 1.2331 - accuracy: 0.5617 - val_loss: 1.4909 - val_accuracy: 0.4872\n",
      "Epoch 37/100\n",
      "1407/1407 [==============================] - 6s 4ms/step - loss: 1.2185 - accuracy: 0.5650 - val_loss: 1.5381 - val_accuracy: 0.4684\n",
      "Epoch 38/100\n",
      "1407/1407 [==============================] - 6s 4ms/step - loss: 1.2060 - accuracy: 0.5719 - val_loss: 1.5408 - val_accuracy: 0.4694\n",
      "Epoch 39/100\n",
      "1407/1407 [==============================] - 6s 4ms/step - loss: 1.2078 - accuracy: 0.5665 - val_loss: 1.5030 - val_accuracy: 0.4804\n",
      "Epoch 40/100\n",
      "1407/1407 [==============================] - 6s 4ms/step - loss: 1.1955 - accuracy: 0.5736 - val_loss: 1.6711 - val_accuracy: 0.4422\n",
      "Epoch 41/100\n",
      "1407/1407 [==============================] - 6s 4ms/step - loss: 1.1887 - accuracy: 0.5745 - val_loss: 1.4876 - val_accuracy: 0.4820\n",
      "Epoch 42/100\n",
      "1407/1407 [==============================] - 5s 4ms/step - loss: 1.1830 - accuracy: 0.5782 - val_loss: 1.8684 - val_accuracy: 0.4068\n",
      "Epoch 43/100\n",
      "1407/1407 [==============================] - 6s 4ms/step - loss: 1.1789 - accuracy: 0.5793 - val_loss: 1.6488 - val_accuracy: 0.4418\n",
      "Epoch 44/100\n",
      "1407/1407 [==============================] - 5s 4ms/step - loss: 1.1643 - accuracy: 0.5866 - val_loss: 1.6474 - val_accuracy: 0.4414\n",
      "Epoch 45/100\n",
      "1407/1407 [==============================] - 5s 4ms/step - loss: 1.1590 - accuracy: 0.5873 - val_loss: 1.5114 - val_accuracy: 0.4818\n",
      "Epoch 46/100\n",
      "1407/1407 [==============================] - 6s 4ms/step - loss: 1.1456 - accuracy: 0.5896 - val_loss: 1.5248 - val_accuracy: 0.4756\n",
      "Epoch 47/100\n",
      "1407/1407 [==============================] - 5s 4ms/step - loss: 1.1436 - accuracy: 0.5958 - val_loss: 1.5580 - val_accuracy: 0.4680\n"
     ]
    }
   ],
   "source": [
    "history = model_20.fit(X_train, y_train, epochs=100,\n",
    "                    validation_data=(X_valid, y_valid),\n",
    "                    callbacks=callbacks)"
   ]
  },
  {
   "cell_type": "code",
   "execution_count": 12,
   "id": "3b8981e3",
   "metadata": {},
   "outputs": [
    {
     "data": {
      "text/plain": [
       "[<matplotlib.lines.Line2D at 0x7f2f7460a650>]"
      ]
     },
     "execution_count": 12,
     "metadata": {},
     "output_type": "execute_result"
    },
    {
     "data": {
      "image/png": "[encoded data removed]",
      "text/plain": [
       "<Figure size 432x288 with 1 Axes>"
      ]
     },
     "metadata": {
      "needs_background": "light"
     },
     "output_type": "display_data"
    }
   ],
   "source": [
    "history.history.keys()\n",
    "plt.plot(history.history['val_accuracy'])\n",
    "plt.plot(history.history['val_loss'])"
   ]
  },
  {
   "cell_type": "code",
   "execution_count": null,
   "id": "9db41f08",
   "metadata": {},
   "outputs": [],
   "source": []
  },
  {
   "cell_type": "markdown",
   "id": "925dc718",
   "metadata": {},
   "source": [
    "We use the mnist set:"
   ]
  },
  {
   "cell_type": "code",
   "execution_count": null,
   "id": "f2a5f4fe",
   "metadata": {},
   "outputs": [],
   "source": [
    "(X_train_full, y_train_full), (X_test, y_test) = k.datasets.mnist.load_data()\n",
    "X_train_full = X_train_full / 255.0\n",
    "X_test = X_test / 255.0\n",
    "X_valid, X_train = X_train_full[:5000], X_train_full[5000:]\n",
    "y_valid, y_train = y_train_full[:5000], y_train_full[5000:]"
   ]
  }
 ],
 "metadata": {
  "kernelspec": {
   "display_name": "Python 3",
   "language": "python",
   "name": "python3"
  },
  "language_info": {
   "codemirror_mode": {
    "name": "ipython",
    "version": 3
   },
   "file_extension": ".py",
   "mimetype": "text/x-python",
   "name": "python",
   "nbconvert_exporter": "python",
   "pygments_lexer": "ipython3",
   "version": "3.7.10"
  },
  "latex_envs": {
   "LaTeX_envs_menu_present": true,
   "autoclose": false,
   "autocomplete": true,
   "bibliofile": "biblio.bib",
   "cite_by": "apalike",
   "current_citInitial": 1,
   "eqLabelWithNumbers": true,
   "eqNumInitial": 1,
   "hotkeys": {
    "equation": "Ctrl-E",
    "itemize": "Ctrl-I"
   },
   "labels_anchors": false,
   "latex_user_defs": false,
   "report_style_numbering": false,
   "user_envs_cfg": false
  },
  "toc": {
   "base_numbering": 1,
   "nav_menu": {},
   "number_sections": true,
   "sideBar": true,
   "skip_h1_title": false,
   "title_cell": "Table of Contents",
   "title_sidebar": "Contents",
   "toc_cell": false,
   "toc_position": {},
   "toc_section_display": true,
   "toc_window_display": false
  }
 },
 "nbformat": 4,
 "nbformat_minor": 5
}
